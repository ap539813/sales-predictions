{
 "cells": [
  {
   "cell_type": "markdown",
   "metadata": {},
   "source": [
    "Pizza vegentariana : pimiento y tofu\n",
    "Pizza no vegetariana: Peperoni , jamón y Salmón\n",
    "\n",
    "\n",
    "Preguntar si es V o NV\n",
    "\n",
    "Mostrar ingredientes disponibles: además de mozzarela  y tomate \n",
    "\n",
    "Mostrar por pantalla si la pizza elegida es V NV"
   ]
  },
  {
   "cell_type": "code",
   "execution_count": 8,
   "metadata": {},
   "outputs": [
    {
     "name": "stdout",
     "output_type": "stream",
     "text": [
      "¿Que tipo de Pizza desea? Marca 1: Vegetariana o 2: NO vegetariana:  1\n",
      "Usted ha elegido pizza vegetaria. Y los ingredientes son: Pimiento y Tofu\n"
     ]
    }
   ],
   "source": [
    "\n",
    "\n",
    "Ingresar = int(input(\"¿Que tipo de Pizza desea? Marca 1: Vegetariana o 2: NO vegetariana:  \"))\n",
    "\n",
    "if 1:\n",
    "    print(\"Usted ha elegido pizza vegetaria. Y los ingredientes son: Pimiento y Tofu\")\n",
    "\n",
    "else:\n",
    "    print(\"Usted ha seleccionado Pizza No Vegetariana. Y los ingredientes son: Peperoni, Jamón y Salmón\")\n",
    "    \n"
   ]
  },
  {
   "cell_type": "code",
   "execution_count": null,
   "metadata": {},
   "outputs": [],
   "source": []
  }
 ],
 "metadata": {
  "kernelspec": {
   "display_name": "Python 3",
   "language": "python",
   "name": "python3"
  },
  "language_info": {
   "codemirror_mode": {
    "name": "ipython",
    "version": 3
   },
   "file_extension": ".py",
   "mimetype": "text/x-python",
   "name": "python",
   "nbconvert_exporter": "python",
   "pygments_lexer": "ipython3",
   "version": "3.8.3"
  },
  "toc": {
   "base_numbering": 1,
   "nav_menu": {},
   "number_sections": true,
   "sideBar": true,
   "skip_h1_title": false,
   "title_cell": "Table of Contents",
   "title_sidebar": "Contents",
   "toc_cell": false,
   "toc_position": {},
   "toc_section_display": true,
   "toc_window_display": false
  },
  "varInspector": {
   "cols": {
    "lenName": 16,
    "lenType": 16,
    "lenVar": 40
   },
   "kernels_config": {
    "python": {
     "delete_cmd_postfix": "",
     "delete_cmd_prefix": "del ",
     "library": "var_list.py",
     "varRefreshCmd": "print(var_dic_list())"
    },
    "r": {
     "delete_cmd_postfix": ") ",
     "delete_cmd_prefix": "rm(",
     "library": "var_list.r",
     "varRefreshCmd": "cat(var_dic_list()) "
    }
   },
   "types_to_exclude": [
    "module",
    "function",
    "builtin_function_or_method",
    "instance",
    "_Feature"
   ],
   "window_display": false
  }
 },
 "nbformat": 4,
 "nbformat_minor": 4
}
